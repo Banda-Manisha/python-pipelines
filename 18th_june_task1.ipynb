{
 "cells": [
  {
   "cell_type": "code",
   "execution_count": 1,
   "id": "8bd46d54",
   "metadata": {},
   "outputs": [],
   "source": [
    "import pandas as pd"
   ]
  },
  {
   "cell_type": "code",
   "execution_count": 3,
   "id": "8d4858cb",
   "metadata": {},
   "outputs": [],
   "source": [
    "df=pd.read_csv(r\"C:\\Users\\Manish\\Downloads\\us_customer_data 1.csv\")"
   ]
  },
  {
   "cell_type": "code",
   "execution_count": 4,
   "id": "c9b8a937",
   "metadata": {},
   "outputs": [
    {
     "data": {
      "text/html": [
       "<div>\n",
       "<style scoped>\n",
       "    .dataframe tbody tr th:only-of-type {\n",
       "        vertical-align: middle;\n",
       "    }\n",
       "\n",
       "    .dataframe tbody tr th {\n",
       "        vertical-align: top;\n",
       "    }\n",
       "\n",
       "    .dataframe thead th {\n",
       "        text-align: right;\n",
       "    }\n",
       "</style>\n",
       "<table border=\"1\" class=\"dataframe\">\n",
       "  <thead>\n",
       "    <tr style=\"text-align: right;\">\n",
       "      <th></th>\n",
       "      <th>customer_id</th>\n",
       "      <th>name</th>\n",
       "      <th>email</th>\n",
       "      <th>phone</th>\n",
       "      <th>address</th>\n",
       "      <th>registration_date</th>\n",
       "      <th>loyalty_status</th>\n",
       "    </tr>\n",
       "  </thead>\n",
       "  <tbody>\n",
       "    <tr>\n",
       "      <th>0</th>\n",
       "      <td>1</td>\n",
       "      <td>Michelle Kidd</td>\n",
       "      <td>vayala@example.net</td>\n",
       "      <td>619-723-4258</td>\n",
       "      <td>USNS Santiago, FPO AE 80872</td>\n",
       "      <td>25-01-2025</td>\n",
       "      <td>Gold</td>\n",
       "    </tr>\n",
       "    <tr>\n",
       "      <th>1</th>\n",
       "      <td>2</td>\n",
       "      <td>Brad Newton</td>\n",
       "      <td>taylorcatherine@example.net</td>\n",
       "      <td>537-674-1158</td>\n",
       "      <td>38783 Oliver Street, West Kristenborough, MT 9...</td>\n",
       "      <td>13-07-2023</td>\n",
       "      <td>Silver</td>\n",
       "    </tr>\n",
       "    <tr>\n",
       "      <th>2</th>\n",
       "      <td>3</td>\n",
       "      <td>Larry Torres</td>\n",
       "      <td>dsanchez@example.net</td>\n",
       "      <td>810-256-4505</td>\n",
       "      <td>6845 Steele Turnpike, West Erikabury, UT 37487</td>\n",
       "      <td>18-08-2023</td>\n",
       "      <td>Bronze</td>\n",
       "    </tr>\n",
       "    <tr>\n",
       "      <th>3</th>\n",
       "      <td>4</td>\n",
       "      <td>Kimberly Price</td>\n",
       "      <td>jessicaknight@example.com</td>\n",
       "      <td>423-222-9779</td>\n",
       "      <td>1631 Alexis Meadows, Lake Amanda, CA 75179</td>\n",
       "      <td>08-12-2024</td>\n",
       "      <td>Gold</td>\n",
       "    </tr>\n",
       "    <tr>\n",
       "      <th>4</th>\n",
       "      <td>5</td>\n",
       "      <td>Matthew Phillips</td>\n",
       "      <td>qwilliams@example.com</td>\n",
       "      <td>220-763-3522</td>\n",
       "      <td>2274 Williams Heights Suite 895, Andersonhaven...</td>\n",
       "      <td>03-02-2024</td>\n",
       "      <td>Gold</td>\n",
       "    </tr>\n",
       "  </tbody>\n",
       "</table>\n",
       "</div>"
      ],
      "text/plain": [
       "   customer_id              name                        email         phone  \\\n",
       "0            1     Michelle Kidd           vayala@example.net  619-723-4258   \n",
       "1            2       Brad Newton  taylorcatherine@example.net  537-674-1158   \n",
       "2            3      Larry Torres         dsanchez@example.net  810-256-4505   \n",
       "3            4    Kimberly Price    jessicaknight@example.com  423-222-9779   \n",
       "4            5  Matthew Phillips        qwilliams@example.com  220-763-3522   \n",
       "\n",
       "                                             address registration_date  \\\n",
       "0                        USNS Santiago, FPO AE 80872        25-01-2025   \n",
       "1  38783 Oliver Street, West Kristenborough, MT 9...        13-07-2023   \n",
       "2     6845 Steele Turnpike, West Erikabury, UT 37487        18-08-2023   \n",
       "3         1631 Alexis Meadows, Lake Amanda, CA 75179        08-12-2024   \n",
       "4  2274 Williams Heights Suite 895, Andersonhaven...        03-02-2024   \n",
       "\n",
       "  loyalty_status  \n",
       "0           Gold  \n",
       "1         Silver  \n",
       "2         Bronze  \n",
       "3           Gold  \n",
       "4           Gold  "
      ]
     },
     "execution_count": 4,
     "metadata": {},
     "output_type": "execute_result"
    }
   ],
   "source": [
    "df.head()"
   ]
  },
  {
   "cell_type": "code",
   "execution_count": 5,
   "id": "d6c7bf65",
   "metadata": {},
   "outputs": [
    {
     "name": "stdout",
     "output_type": "stream",
     "text": [
      "<class 'pandas.core.frame.DataFrame'>\n",
      "RangeIndex: 1000 entries, 0 to 999\n",
      "Data columns (total 7 columns):\n",
      " #   Column             Non-Null Count  Dtype \n",
      "---  ------             --------------  ----- \n",
      " 0   customer_id        1000 non-null   int64 \n",
      " 1   name               1000 non-null   object\n",
      " 2   email              950 non-null    object\n",
      " 3   phone              984 non-null    object\n",
      " 4   address            1000 non-null   object\n",
      " 5   registration_date  1000 non-null   object\n",
      " 6   loyalty_status     1000 non-null   object\n",
      "dtypes: int64(1), object(6)\n",
      "memory usage: 54.8+ KB\n"
     ]
    }
   ],
   "source": [
    "df.info()"
   ]
  },
  {
   "cell_type": "code",
   "execution_count": 6,
   "id": "8149df60",
   "metadata": {},
   "outputs": [
    {
     "data": {
      "text/plain": [
       "np.int64(0)"
      ]
     },
     "execution_count": 6,
     "metadata": {},
     "output_type": "execute_result"
    }
   ],
   "source": [
    "df.duplicated().sum()"
   ]
  },
  {
   "cell_type": "code",
   "execution_count": 7,
   "id": "df61e299",
   "metadata": {},
   "outputs": [
    {
     "data": {
      "text/plain": [
       "<bound method DataFrame.isnull of      customer_id              name                        email         phone  \\\n",
       "0              1     Michelle Kidd           vayala@example.net  619-723-4258   \n",
       "1              2       Brad Newton  taylorcatherine@example.net  537-674-1158   \n",
       "2              3      Larry Torres         dsanchez@example.net  810-256-4505   \n",
       "3              4    Kimberly Price    jessicaknight@example.com  423-222-9779   \n",
       "4              5  Matthew Phillips        qwilliams@example.com  220-763-3522   \n",
       "..           ...               ...                          ...           ...   \n",
       "995          996    Jerry Mcdaniel       walkerlisa@example.net  638-989-9441   \n",
       "996          997      Jodi Simpson           eric24@example.org  483-625-2940   \n",
       "997          998     Crystal Brown         pshaffer@example.net  390-747-3088   \n",
       "998          999    Gregory Duarte    caitlindunlap@example.org  257-409-8196   \n",
       "999         1000       Jason Walls        michael42@example.com  692-333-6880   \n",
       "\n",
       "                                               address registration_date  \\\n",
       "0                          USNS Santiago, FPO AE 80872        25-01-2025   \n",
       "1    38783 Oliver Street, West Kristenborough, MT 9...        13-07-2023   \n",
       "2       6845 Steele Turnpike, West Erikabury, UT 37487        18-08-2023   \n",
       "3           1631 Alexis Meadows, Lake Amanda, CA 75179        08-12-2024   \n",
       "4    2274 Williams Heights Suite 895, Andersonhaven...        03-02-2024   \n",
       "..                                                 ...               ...   \n",
       "995           34746 Smith Gateway, New Sarah, AS 12715        10-02-2025   \n",
       "996  2876 Tucker Road Suite 947, North Tommyborough...        18-04-2024   \n",
       "997  095 Janice Forest Suite 570, Boltonmouth, DE 7...        30-08-2024   \n",
       "998                   Unit 6377 Box 7662, DPO AP 03300        16-05-2024   \n",
       "999             95002 Bruce Rue, Camachoport, MH 58723        10-12-2024   \n",
       "\n",
       "    loyalty_status  \n",
       "0             Gold  \n",
       "1           Silver  \n",
       "2           Bronze  \n",
       "3             Gold  \n",
       "4             Gold  \n",
       "..             ...  \n",
       "995         Silver  \n",
       "996         Bronze  \n",
       "997         Bronze  \n",
       "998           Gold  \n",
       "999         Bronze  \n",
       "\n",
       "[1000 rows x 7 columns]>"
      ]
     },
     "execution_count": 7,
     "metadata": {},
     "output_type": "execute_result"
    }
   ],
   "source": [
    "df.isnull"
   ]
  },
  {
   "cell_type": "code",
   "execution_count": 8,
   "id": "55eabd83",
   "metadata": {},
   "outputs": [
    {
     "name": "stdout",
     "output_type": "stream",
     "text": [
      "customer_id           0\n",
      "name                  0\n",
      "email                50\n",
      "phone                16\n",
      "address               0\n",
      "registration_date     0\n",
      "loyalty_status        0\n",
      "dtype: int64\n"
     ]
    }
   ],
   "source": [
    "print(df.isnull().sum())"
   ]
  },
  {
   "cell_type": "code",
   "execution_count": 9,
   "id": "c316486f",
   "metadata": {},
   "outputs": [],
   "source": [
    "df['email'] = df['email'].fillna('manisha@example.com ')"
   ]
  },
  {
   "cell_type": "code",
   "execution_count": 10,
   "id": "ecbc7de4",
   "metadata": {},
   "outputs": [],
   "source": [
    "df['phone']= df['phone'].fillna('123456789')"
   ]
  }
 ],
 "metadata": {
  "kernelspec": {
   "display_name": "venv",
   "language": "python",
   "name": "python3"
  },
  "language_info": {
   "codemirror_mode": {
    "name": "ipython",
    "version": 3
   },
   "file_extension": ".py",
   "mimetype": "text/x-python",
   "name": "python",
   "nbconvert_exporter": "python",
   "pygments_lexer": "ipython3",
   "version": "3.10.11"
  }
 },
 "nbformat": 4,
 "nbformat_minor": 5
}
