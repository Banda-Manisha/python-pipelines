{
 "cells": [
  {
   "cell_type": "code",
   "execution_count": 2,
   "id": "a1949bf5",
   "metadata": {},
   "outputs": [],
   "source": [
    "import pandas as pd\n"
   ]
  },
  {
   "cell_type": "code",
   "execution_count": 3,
   "id": "730af617",
   "metadata": {},
   "outputs": [],
   "source": [
    "import random as re"
   ]
  },
  {
   "cell_type": "code",
   "execution_count": 4,
   "id": "7529a893",
   "metadata": {},
   "outputs": [],
   "source": [
    "customers = pd.read_csv(r\"C:\\Users\\Manish\\Downloads\\us_customer_data 1.csv\")"
   ]
  },
  {
   "cell_type": "code",
   "execution_count": 5,
   "id": "87b7d4ef",
   "metadata": {},
   "outputs": [],
   "source": [
    "def generate_phone():\n",
    "    return f\"+91{re.randint(7000000000, 9999999999)}\""
   ]
  },
  {
   "cell_type": "code",
   "execution_count": 6,
   "id": "9183de9d",
   "metadata": {},
   "outputs": [],
   "source": [
    "customers['phone'] = customers['phone'].fillna(value=pd.Series([generate_phone() for _ in range(len(customers))]))"
   ]
  },
  {
   "cell_type": "code",
   "execution_count": 7,
   "id": "80dcc644",
   "metadata": {},
   "outputs": [],
   "source": [
    "customers['phone'] = customers['phone'].str.replace('-', '', regex=False)"
   ]
  },
  {
   "cell_type": "code",
   "execution_count": 8,
   "id": "da5599b4",
   "metadata": {},
   "outputs": [],
   "source": [
    "customers['phone']='+91-'+customers['phone']"
   ]
  },
  {
   "cell_type": "code",
   "execution_count": 9,
   "id": "132096da",
   "metadata": {},
   "outputs": [],
   "source": [
    "customers[\"name\"] = customers[\"name\"].astype(str).str.strip().str.title()"
   ]
  },
  {
   "cell_type": "code",
   "execution_count": 10,
   "id": "bb639eb4",
   "metadata": {},
   "outputs": [],
   "source": [
    "customers[[\"First Name\", \"Last Name\"]] = customers[\"name\"].str.split(n=1, expand=True)"
   ]
  },
  {
   "cell_type": "code",
   "execution_count": 11,
   "id": "5793549f",
   "metadata": {},
   "outputs": [],
   "source": [
    "customers['email']= customers['email'].fillna((customers['First Name'] + customers['Last Name']).str.lower() +'@example.com')"
   ]
  },
  {
   "cell_type": "code",
   "execution_count": 12,
   "id": "109b3855",
   "metadata": {},
   "outputs": [],
   "source": [
    "transactions = pd.read_csv(r\"C:\\Users\\Manish\\Downloads\\transaction_data.csv\")\n"
   ]
  },
  {
   "cell_type": "code",
   "execution_count": 13,
   "id": "fe808f35",
   "metadata": {},
   "outputs": [],
   "source": [
    "df=pd.merge(customers,transactions,on=\"customer_id\",how='inner')"
   ]
  },
  {
   "cell_type": "code",
   "execution_count": 14,
   "id": "8a829c1f",
   "metadata": {},
   "outputs": [],
   "source": [
    "df= df.dropna(subset=['amount'])"
   ]
  },
  {
   "cell_type": "code",
   "execution_count": 23,
   "id": "4323f568",
   "metadata": {},
   "outputs": [],
   "source": [
    "df = df[df['amount']> 1000]"
   ]
  },
  {
   "cell_type": "code",
   "execution_count": 29,
   "id": "074e4d49",
   "metadata": {},
   "outputs": [],
   "source": [
    "tf = df.groupby(['customer_id','phone'],as_index=False).first()"
   ]
  },
  {
   "cell_type": "code",
   "execution_count": 30,
   "id": "769734df",
   "metadata": {},
   "outputs": [
    {
     "name": "stdout",
     "output_type": "stream",
     "text": [
      "     customer_id           phone              name  \\\n",
      "0              1  +91-6197234258     Michelle Kidd   \n",
      "1              4  +91-4232229779    Kimberly Price   \n",
      "2              5  +91-2207633522  Matthew Phillips   \n",
      "3              7  +91-1988627105      Louis Miller   \n",
      "4             10  +91-4107299740      Rachel White   \n",
      "..           ...             ...               ...   \n",
      "552          988  +91-6107359149     Johnny Ingram   \n",
      "553          989  +91-3467527871     John Mcknight   \n",
      "554          991  +91-6264536078     Erica Fleming   \n",
      "555          992  +91-3854544879    Thomas Stevens   \n",
      "556          995  +91-5763204824    Deanna Johnson   \n",
      "\n",
      "                           email  \\\n",
      "0             vayala@example.net   \n",
      "1      jessicaknight@example.com   \n",
      "2          qwilliams@example.com   \n",
      "3    patriciaelliott@example.org   \n",
      "4       whitemichael@example.org   \n",
      "..                           ...   \n",
      "552       danielle96@example.com   \n",
      "553  gonzalezrebecca@example.org   \n",
      "554          erica85@example.net   \n",
      "555    vargasmatthew@example.org   \n",
      "556            ycook@example.org   \n",
      "\n",
      "                                               address registration_date  \\\n",
      "0                          USNS Santiago, FPO AE 80872        25-01-2025   \n",
      "1           1631 Alexis Meadows, Lake Amanda, CA 75179        08-12-2024   \n",
      "2    2274 Williams Heights Suite 895, Andersonhaven...        03-02-2024   \n",
      "3          02590 Marshall Well, Sheppardland, CT 88067        30-09-2024   \n",
      "4            6182 Brown Mountain, South Gary, IL 29016        25-02-2024   \n",
      "..                                                 ...               ...   \n",
      "552  4275 Davis Cliff Suite 804, South Larry, AZ 46557        04-03-2025   \n",
      "553          299 Chad Islands, Lake Emmafurt, NC 25996        26-09-2024   \n",
      "554       55648 Gilbert Square, Port Jessica, OR 63566        21-01-2025   \n",
      "555  8783 Joseph Stravenue Suite 016, Port Gabriell...        25-06-2024   \n",
      "556        601 Contreras Forges, Michaelfurt, KY 30733        01-11-2023   \n",
      "\n",
      "    loyalty_status First Name Last Name  transaction_id   amount  \\\n",
      "0             Gold   Michelle      Kidd               8  2652.57   \n",
      "1             Gold   Kimberly     Price             427  1787.09   \n",
      "2             Gold    Matthew  Phillips             452  1983.52   \n",
      "3             Gold      Louis    Miller             470  3241.66   \n",
      "4           Bronze     Rachel     White             173  3456.05   \n",
      "..             ...        ...       ...             ...      ...   \n",
      "552         Silver     Johnny    Ingram             342  1055.22   \n",
      "553         Silver       John  Mcknight             343  3791.70   \n",
      "554         Silver      Erica   Fleming             171  3346.40   \n",
      "555         Silver     Thomas   Stevens             352  3691.14   \n",
      "556         Silver     Deanna   Johnson              62  4299.69   \n",
      "\n",
      "        transaction_date product_category payment_method store_location  \n",
      "0    2025-04-19 14:46:00             Home    Credit Card       New York  \n",
      "1    2025-04-28 04:34:07           Beauty         PayPal        Chicago  \n",
      "2    2025-02-03 14:59:13           Sports         PayPal         Online  \n",
      "3    2025-05-15 15:17:05      Electronics         PayPal    Los Angeles  \n",
      "4    2025-04-15 19:26:48             Home     Debit Card         Online  \n",
      "..                   ...              ...            ...            ...  \n",
      "552  2025-05-07 05:06:22         Clothing         PayPal          Miami  \n",
      "553  2025-05-28 00:09:28         Clothing         PayPal        Chicago  \n",
      "554  2025-05-29 20:17:50         Clothing           Cash          Miami  \n",
      "555  2025-02-12 08:40:27           Sports     Debit Card       New York  \n",
      "556  2025-01-04 19:54:59      Electronics     Debit Card       New York  \n",
      "\n",
      "[557 rows x 15 columns]\n"
     ]
    }
   ],
   "source": [
    "print(tf)"
   ]
  },
  {
   "cell_type": "code",
   "execution_count": 31,
   "id": "f7d4a644",
   "metadata": {},
   "outputs": [],
   "source": [
    "tf.to_csv('thirrd.csv',index=False)"
   ]
  }
 ],
 "metadata": {
  "kernelspec": {
   "display_name": "venv",
   "language": "python",
   "name": "python3"
  },
  "language_info": {
   "codemirror_mode": {
    "name": "ipython",
    "version": 3
   },
   "file_extension": ".py",
   "mimetype": "text/x-python",
   "name": "python",
   "nbconvert_exporter": "python",
   "pygments_lexer": "ipython3",
   "version": "3.10.11"
  }
 },
 "nbformat": 4,
 "nbformat_minor": 5
}
